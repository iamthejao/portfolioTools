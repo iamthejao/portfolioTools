{
 "cells": [
  {
   "cell_type": "code",
   "execution_count": 1,
   "metadata": {},
   "outputs": [],
   "source": [
    "%matplotlib inline\n",
    "%load_ext autoreload\n",
    "%autoreload 2\n",
    "\n",
    "import datetime as dt\n",
    "import os\n",
    "import pandas as pd\n",
    "import json\n",
    "import dateparser"
   ]
  },
  {
   "cell_type": "code",
   "execution_count": 2,
   "metadata": {},
   "outputs": [
    {
     "data": {
      "text/plain": [
       "'/Users/joaopedroaugusto/Documents/Workspace/Projects/portfolioTools/tutorials'"
      ]
     },
     "execution_count": 2,
     "metadata": {},
     "output_type": "execute_result"
    }
   ],
   "source": [
    "os.getcwd()"
   ]
  },
  {
   "cell_type": "code",
   "execution_count": 3,
   "metadata": {},
   "outputs": [],
   "source": [
    "# Read excel file\n",
    "df = pd.read_excel(\"AlphaStrategy.xlsx\")"
   ]
  },
  {
   "cell_type": "code",
   "execution_count": 4,
   "metadata": {},
   "outputs": [],
   "source": [
    "df = df.set_index(\"Date\")\n",
    "data = df\n",
    "data['valid_observation'] = True\n",
    "data = data.rename(columns={'cumreturn':'adjustedclose'})\n",
    "data.columns = [repr(col) for col in data.columns]"
   ]
  },
  {
   "cell_type": "code",
   "execution_count": 5,
   "metadata": {},
   "outputs": [
    {
     "data": {
      "text/html": [
       "<div>\n",
       "<style scoped>\n",
       "    .dataframe tbody tr th:only-of-type {\n",
       "        vertical-align: middle;\n",
       "    }\n",
       "\n",
       "    .dataframe tbody tr th {\n",
       "        vertical-align: top;\n",
       "    }\n",
       "\n",
       "    .dataframe thead th {\n",
       "        text-align: right;\n",
       "    }\n",
       "</style>\n",
       "<table border=\"1\" class=\"dataframe\">\n",
       "  <thead>\n",
       "    <tr style=\"text-align: right;\">\n",
       "      <th></th>\n",
       "      <th>'return'</th>\n",
       "      <th>'adjustedclose'</th>\n",
       "      <th>'valid_observation'</th>\n",
       "    </tr>\n",
       "    <tr>\n",
       "      <th>Date</th>\n",
       "      <th></th>\n",
       "      <th></th>\n",
       "      <th></th>\n",
       "    </tr>\n",
       "  </thead>\n",
       "  <tbody>\n",
       "    <tr>\n",
       "      <th>2014-10-29</th>\n",
       "      <td>0.000000</td>\n",
       "      <td>1.000000</td>\n",
       "      <td>True</td>\n",
       "    </tr>\n",
       "    <tr>\n",
       "      <th>2014-10-30</th>\n",
       "      <td>0.009284</td>\n",
       "      <td>1.009284</td>\n",
       "      <td>True</td>\n",
       "    </tr>\n",
       "    <tr>\n",
       "      <th>2014-10-31</th>\n",
       "      <td>0.031798</td>\n",
       "      <td>1.041376</td>\n",
       "      <td>True</td>\n",
       "    </tr>\n",
       "    <tr>\n",
       "      <th>2014-11-03</th>\n",
       "      <td>0.002590</td>\n",
       "      <td>1.044074</td>\n",
       "      <td>True</td>\n",
       "    </tr>\n",
       "    <tr>\n",
       "      <th>2014-11-04</th>\n",
       "      <td>-0.013524</td>\n",
       "      <td>1.029954</td>\n",
       "      <td>True</td>\n",
       "    </tr>\n",
       "    <tr>\n",
       "      <th>2014-11-05</th>\n",
       "      <td>0.003646</td>\n",
       "      <td>1.033710</td>\n",
       "      <td>True</td>\n",
       "    </tr>\n",
       "    <tr>\n",
       "      <th>2014-11-06</th>\n",
       "      <td>0.004864</td>\n",
       "      <td>1.038737</td>\n",
       "      <td>True</td>\n",
       "    </tr>\n",
       "    <tr>\n",
       "      <th>2014-11-07</th>\n",
       "      <td>0.009410</td>\n",
       "      <td>1.048511</td>\n",
       "      <td>True</td>\n",
       "    </tr>\n",
       "    <tr>\n",
       "      <th>2014-11-10</th>\n",
       "      <td>-0.002645</td>\n",
       "      <td>1.045738</td>\n",
       "      <td>True</td>\n",
       "    </tr>\n",
       "    <tr>\n",
       "      <th>2014-11-11</th>\n",
       "      <td>-0.003566</td>\n",
       "      <td>1.042009</td>\n",
       "      <td>True</td>\n",
       "    </tr>\n",
       "  </tbody>\n",
       "</table>\n",
       "</div>"
      ],
      "text/plain": [
       "            'return'  'adjustedclose'  'valid_observation'\n",
       "Date                                                      \n",
       "2014-10-29  0.000000         1.000000                 True\n",
       "2014-10-30  0.009284         1.009284                 True\n",
       "2014-10-31  0.031798         1.041376                 True\n",
       "2014-11-03  0.002590         1.044074                 True\n",
       "2014-11-04 -0.013524         1.029954                 True\n",
       "2014-11-05  0.003646         1.033710                 True\n",
       "2014-11-06  0.004864         1.038737                 True\n",
       "2014-11-07  0.009410         1.048511                 True\n",
       "2014-11-10 -0.002645         1.045738                 True\n",
       "2014-11-11 -0.003566         1.042009                 True"
      ]
     },
     "execution_count": 5,
     "metadata": {},
     "output_type": "execute_result"
    }
   ],
   "source": [
    "data.head(10)"
   ]
  },
  {
   "cell_type": "code",
   "execution_count": 6,
   "metadata": {},
   "outputs": [
    {
     "data": {
      "text/plain": [
       "'/Users/joaopedroaugusto/Documents/Workspace/Projects/portfolioTools'"
      ]
     },
     "execution_count": 6,
     "metadata": {},
     "output_type": "execute_result"
    }
   ],
   "source": [
    "os.chdir(\"../\")\n",
    "os.getcwd()"
   ]
  },
  {
   "cell_type": "code",
   "execution_count": 7,
   "metadata": {},
   "outputs": [],
   "source": [
    "type_ = \"STRATEGY\"\n",
    "name = \"TUTORIAL\"\n",
    "# Save inside database folder\n",
    "data.to_parquet('database/{0}/{1}.pqt'.format(type_, name))\n",
    "meta = {\"name\":\"Some strategy\", \"descr\": \"Strategy\"}\n",
    "json.dump(meta, open('database/{0}/{1}.meta'.format(type_, name),\"w\"))"
   ]
  },
  {
   "cell_type": "code",
   "execution_count": 14,
   "metadata": {},
   "outputs": [],
   "source": [
    "# Testing if it can now be loaded by portfolio class\n",
    "from portfolio import Portfolio\n",
    "import numpy as np\n",
    "tickers = [(\"STRATEGY\", \"TUTORIAL\")] # Getting my recently saved parquet file\n",
    "allocation = np.array([1.0]) # 100%\n",
    "direction = np.array([-1]) # Short"
   ]
  },
  {
   "cell_type": "code",
   "execution_count": null,
   "metadata": {},
   "outputs": [
    {
     "name": "stdout",
     "output_type": "stream",
     "text": [
      "Loading size:  1\n"
     ]
    }
   ],
   "source": [
    "pi = portfolio.Portfolio([('TIME_SERIES_DAILY_ADJUSTED', 'IWV')], allocation, direction, (\"RISK_FREE\", \"USA\"), firstPriceOpen=False)\n",
    "pi.setCAPMFactors([('TIME_SERIES_DAILY_ADJUSTED', 'IWV')])\n",
    "pi.setDateRange('2017-1-1', '2019-11-22')\n",
    "pi.setFrequency('1D') # Try 7D, 15D, 1M etc\n",
    "pi.make()"
   ]
  },
  {
   "cell_type": "code",
   "execution_count": 10,
   "metadata": {},
   "outputs": [],
   "source": [
    "# pi.plot()"
   ]
  }
 ],
 "metadata": {
  "kernelspec": {
   "display_name": "Python 3",
   "language": "python",
   "name": "python3"
  },
  "language_info": {
   "codemirror_mode": {
    "name": "ipython",
    "version": 3
   },
   "file_extension": ".py",
   "mimetype": "text/x-python",
   "name": "python",
   "nbconvert_exporter": "python",
   "pygments_lexer": "ipython3",
   "version": "3.7.3"
  }
 },
 "nbformat": 4,
 "nbformat_minor": 2
}
